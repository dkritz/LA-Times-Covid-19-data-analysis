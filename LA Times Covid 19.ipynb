{
 "cells": [
  {
   "cell_type": "code",
   "execution_count": 192,
   "metadata": {},
   "outputs": [],
   "source": [
    "# https://github.com/datadesk/california-coronavirus-data/blob/master/latimes-county-totals.csv\n",
    "# motivated by this tweet: https://twitter.com/justin_hart/status/1255143233035755521\n",
    "# where the author gets a really high R-squared\n",
    "\n",
    "# also need\n",
    "# 1. population by county\n",
    "# 2. deaths by county\n",
    "\n",
    "# then\n",
    "# merge dataframes so that we have\n",
    "# 1. deaths per 000 by county\n",
    "# 2. nursing home cases per 000\n",
    "\n",
    "import pandas as pd\n",
    "import statsmodels.formula.api as sm"
   ]
  },
  {
   "cell_type": "code",
   "execution_count": 193,
   "metadata": {},
   "outputs": [],
   "source": [
    "# nursing home cases by county\n",
    "\n",
    "df = pd.read_csv(\"https://raw.githubusercontent.com/datadesk/california-coronavirus-data/master/cdph-nursing-homes.csv\")\n",
    "df['date'] = pd.to_datetime(df['date'])\n",
    "df.drop(['fips', 'staff_note', 'patients_note', 'type', 'staff'], axis=1, inplace=True)\n",
    "df['patients'].fillna(0, inplace=True)\n",
    "#df['staff'].fillna(0, inplace=True)"
   ]
  },
  {
   "cell_type": "code",
   "execution_count": 194,
   "metadata": {},
   "outputs": [],
   "source": [
    "df = df.set_index('date')\n",
    "#df = df.set_index('date','county')"
   ]
  },
  {
   "cell_type": "code",
   "execution_count": 195,
   "metadata": {},
   "outputs": [],
   "source": [
    "df = df.sort_values('date').groupby('name').tail(1)"
   ]
  },
  {
   "cell_type": "code",
   "execution_count": 196,
   "metadata": {},
   "outputs": [],
   "source": [
    "nursing_cases = df.groupby('county').sum()"
   ]
  },
  {
   "cell_type": "code",
   "execution_count": 198,
   "metadata": {},
   "outputs": [],
   "source": [
    "# deaths by county\n",
    "\n",
    "df = pd.read_csv('https://raw.githubusercontent.com/datadesk/california-coronavirus-data/master/latimes-county-totals.csv')\n",
    "df['date'] = pd.to_datetime(df['date'])\n",
    "df.drop(['fips', 'confirmed_cases', 'deaths', 'new_confirmed_cases'], axis=1, inplace=True)\n",
    "df = df.set_index('date')\n",
    "df = df.groupby('county').sum()\n",
    "df['deaths'] = df['new_deaths']\n",
    "df.drop(['new_deaths'], axis=1, inplace=True)\n",
    "deaths = df"
   ]
  },
  {
   "cell_type": "code",
   "execution_count": 197,
   "metadata": {},
   "outputs": [],
   "source": [
    "# population by county\n",
    "\n",
    "cp = pd.read_csv('calfornia population by county.csv')\n",
    "cp['name'] = cp['CTYNAME'].str.replace(r' County', '')\n",
    "cp.drop(['CTYNAME', 'GrowthRate'], axis=1, inplace=True)\n",
    "county_populations = cp.set_index('name')"
   ]
  },
  {
   "cell_type": "code",
   "execution_count": 199,
   "metadata": {},
   "outputs": [],
   "source": [
    "results = pd.concat([nursing_cases, county_populations, deaths], axis=1, sort=False)"
   ]
  },
  {
   "cell_type": "code",
   "execution_count": 200,
   "metadata": {},
   "outputs": [
    {
     "data": {
      "text/html": [
       "<div>\n",
       "<style scoped>\n",
       "    .dataframe tbody tr th:only-of-type {\n",
       "        vertical-align: middle;\n",
       "    }\n",
       "\n",
       "    .dataframe tbody tr th {\n",
       "        vertical-align: top;\n",
       "    }\n",
       "\n",
       "    .dataframe thead th {\n",
       "        text-align: right;\n",
       "    }\n",
       "</style>\n",
       "<table border=\"1\" class=\"dataframe\">\n",
       "  <thead>\n",
       "    <tr style=\"text-align: right;\">\n",
       "      <th></th>\n",
       "      <th>patients</th>\n",
       "      <th>Pop</th>\n",
       "      <th>deaths</th>\n",
       "      <th>nursing_patients_per_000000</th>\n",
       "      <th>deaths_per_000000</th>\n",
       "    </tr>\n",
       "  </thead>\n",
       "  <tbody>\n",
       "    <tr>\n",
       "      <td>Alameda</td>\n",
       "      <td>102.0</td>\n",
       "      <td>1666753</td>\n",
       "      <td>52.0</td>\n",
       "      <td>61.19683</td>\n",
       "      <td>31.198384</td>\n",
       "    </tr>\n",
       "    <tr>\n",
       "      <td>Amador</td>\n",
       "      <td>0.0</td>\n",
       "      <td>39383</td>\n",
       "      <td>0.0</td>\n",
       "      <td>0.00000</td>\n",
       "      <td>0.000000</td>\n",
       "    </tr>\n",
       "    <tr>\n",
       "      <td>Butte</td>\n",
       "      <td>0.0</td>\n",
       "      <td>231256</td>\n",
       "      <td>0.0</td>\n",
       "      <td>0.00000</td>\n",
       "      <td>0.000000</td>\n",
       "    </tr>\n",
       "    <tr>\n",
       "      <td>Calaveras</td>\n",
       "      <td>0.0</td>\n",
       "      <td>45602</td>\n",
       "      <td>0.0</td>\n",
       "      <td>0.00000</td>\n",
       "      <td>0.000000</td>\n",
       "    </tr>\n",
       "    <tr>\n",
       "      <td>Colusa</td>\n",
       "      <td>0.0</td>\n",
       "      <td>21627</td>\n",
       "      <td>0.0</td>\n",
       "      <td>0.00000</td>\n",
       "      <td>0.000000</td>\n",
       "    </tr>\n",
       "  </tbody>\n",
       "</table>\n",
       "</div>"
      ],
      "text/plain": [
       "           patients      Pop  deaths  nursing_patients_per_000000  \\\n",
       "Alameda       102.0  1666753    52.0                     61.19683   \n",
       "Amador          0.0    39383     0.0                      0.00000   \n",
       "Butte           0.0   231256     0.0                      0.00000   \n",
       "Calaveras       0.0    45602     0.0                      0.00000   \n",
       "Colusa          0.0    21627     0.0                      0.00000   \n",
       "\n",
       "           deaths_per_000000  \n",
       "Alameda            31.198384  \n",
       "Amador              0.000000  \n",
       "Butte               0.000000  \n",
       "Calaveras           0.000000  \n",
       "Colusa              0.000000  "
      ]
     },
     "execution_count": 200,
     "metadata": {},
     "output_type": "execute_result"
    }
   ],
   "source": [
    "results['nursing_patients_per_000000'] = results['patients']/results['Pop']*1000000\n",
    "results['deaths_per_000000'] = results['deaths']/results['Pop']*1000000\n",
    "results.head()"
   ]
  },
  {
   "cell_type": "code",
   "execution_count": 201,
   "metadata": {},
   "outputs": [
    {
     "name": "stdout",
     "output_type": "stream",
     "text": [
      "Intercept                      12.853667\n",
      "nursing_patients_per_000000     0.365047\n",
      "dtype: float64\n"
     ]
    }
   ],
   "source": [
    "result = sm.ols(formula=\"deaths_per_000000 ~ nursing_patients_per_000000\", data=results).fit()\n",
    "print(result.params)"
   ]
  },
  {
   "cell_type": "code",
   "execution_count": 202,
   "metadata": {},
   "outputs": [
    {
     "name": "stdout",
     "output_type": "stream",
     "text": [
      "                            OLS Regression Results                            \n",
      "==============================================================================\n",
      "Dep. Variable:      deaths_per_000000   R-squared:                       0.478\n",
      "Model:                            OLS   Adj. R-squared:                  0.467\n",
      "Method:                 Least Squares   F-statistic:                     44.83\n",
      "Date:                Tue, 28 Apr 2020   Prob (F-statistic):           1.97e-08\n",
      "Time:                        17:31:46   Log-Likelihood:                -213.69\n",
      "No. Observations:                  51   AIC:                             431.4\n",
      "Df Residuals:                      49   BIC:                             435.2\n",
      "Df Model:                           1                                         \n",
      "Covariance Type:            nonrobust                                         \n",
      "===============================================================================================\n",
      "                                  coef    std err          t      P>|t|      [0.025      0.975]\n",
      "-----------------------------------------------------------------------------------------------\n",
      "Intercept                      12.8537      2.545      5.050      0.000       7.739      17.968\n",
      "nursing_patients_per_000000     0.3650      0.055      6.695      0.000       0.255       0.475\n",
      "==============================================================================\n",
      "Omnibus:                       13.447   Durbin-Watson:                   1.899\n",
      "Prob(Omnibus):                  0.001   Jarque-Bera (JB):               14.178\n",
      "Skew:                           1.169   Prob(JB):                     0.000834\n",
      "Kurtosis:                       4.100   Cond. No.                         52.1\n",
      "==============================================================================\n",
      "\n",
      "Warnings:\n",
      "[1] Standard Errors assume that the covariance matrix of the errors is correctly specified.\n"
     ]
    }
   ],
   "source": [
    "print(result.summary())"
   ]
  },
  {
   "cell_type": "code",
   "execution_count": 203,
   "metadata": {
    "scrolled": false
   },
   "outputs": [
    {
     "data": {
      "text/html": [
       "<div>\n",
       "<style scoped>\n",
       "    .dataframe tbody tr th:only-of-type {\n",
       "        vertical-align: middle;\n",
       "    }\n",
       "\n",
       "    .dataframe tbody tr th {\n",
       "        vertical-align: top;\n",
       "    }\n",
       "\n",
       "    .dataframe thead th {\n",
       "        text-align: right;\n",
       "    }\n",
       "</style>\n",
       "<table border=\"1\" class=\"dataframe\">\n",
       "  <thead>\n",
       "    <tr style=\"text-align: right;\">\n",
       "      <th></th>\n",
       "      <th>patients</th>\n",
       "      <th>Pop</th>\n",
       "      <th>deaths</th>\n",
       "      <th>nursing_patients_per_000000</th>\n",
       "      <th>deaths_per_000000</th>\n",
       "    </tr>\n",
       "  </thead>\n",
       "  <tbody>\n",
       "    <tr>\n",
       "      <td>Alameda</td>\n",
       "      <td>102.0</td>\n",
       "      <td>1666753</td>\n",
       "      <td>52.0</td>\n",
       "      <td>61.196830</td>\n",
       "      <td>31.198384</td>\n",
       "    </tr>\n",
       "    <tr>\n",
       "      <td>Contra Costa</td>\n",
       "      <td>81.0</td>\n",
       "      <td>1150215</td>\n",
       "      <td>25.0</td>\n",
       "      <td>70.421617</td>\n",
       "      <td>21.735067</td>\n",
       "    </tr>\n",
       "    <tr>\n",
       "      <td>Los Angeles</td>\n",
       "      <td>850.0</td>\n",
       "      <td>10105518</td>\n",
       "      <td>948.0</td>\n",
       "      <td>84.112462</td>\n",
       "      <td>93.810134</td>\n",
       "    </tr>\n",
       "    <tr>\n",
       "      <td>Marin</td>\n",
       "      <td>1.0</td>\n",
       "      <td>259666</td>\n",
       "      <td>12.0</td>\n",
       "      <td>3.851101</td>\n",
       "      <td>46.213212</td>\n",
       "    </tr>\n",
       "    <tr>\n",
       "      <td>Orange</td>\n",
       "      <td>100.0</td>\n",
       "      <td>3185968</td>\n",
       "      <td>39.0</td>\n",
       "      <td>31.387635</td>\n",
       "      <td>12.241178</td>\n",
       "    </tr>\n",
       "    <tr>\n",
       "      <td>Riverside</td>\n",
       "      <td>224.0</td>\n",
       "      <td>2450758</td>\n",
       "      <td>141.0</td>\n",
       "      <td>91.400293</td>\n",
       "      <td>57.533220</td>\n",
       "    </tr>\n",
       "    <tr>\n",
       "      <td>Sacramento</td>\n",
       "      <td>27.0</td>\n",
       "      <td>1540975</td>\n",
       "      <td>41.0</td>\n",
       "      <td>17.521374</td>\n",
       "      <td>26.606532</td>\n",
       "    </tr>\n",
       "    <tr>\n",
       "      <td>San Bernardino</td>\n",
       "      <td>157.0</td>\n",
       "      <td>2171603</td>\n",
       "      <td>82.0</td>\n",
       "      <td>72.296824</td>\n",
       "      <td>37.760125</td>\n",
       "    </tr>\n",
       "    <tr>\n",
       "      <td>San Diego</td>\n",
       "      <td>58.0</td>\n",
       "      <td>3343364</td>\n",
       "      <td>113.0</td>\n",
       "      <td>17.347797</td>\n",
       "      <td>33.798294</td>\n",
       "    </tr>\n",
       "    <tr>\n",
       "      <td>San Francisco</td>\n",
       "      <td>68.0</td>\n",
       "      <td>883305</td>\n",
       "      <td>23.0</td>\n",
       "      <td>76.983601</td>\n",
       "      <td>26.038571</td>\n",
       "    </tr>\n",
       "    <tr>\n",
       "      <td>San Joaquin</td>\n",
       "      <td>3.0</td>\n",
       "      <td>752660</td>\n",
       "      <td>25.0</td>\n",
       "      <td>3.985863</td>\n",
       "      <td>33.215529</td>\n",
       "    </tr>\n",
       "    <tr>\n",
       "      <td>San Mateo</td>\n",
       "      <td>55.0</td>\n",
       "      <td>769545</td>\n",
       "      <td>41.0</td>\n",
       "      <td>71.470804</td>\n",
       "      <td>53.278236</td>\n",
       "    </tr>\n",
       "    <tr>\n",
       "      <td>Santa Barbara</td>\n",
       "      <td>1.0</td>\n",
       "      <td>446527</td>\n",
       "      <td>7.0</td>\n",
       "      <td>2.239506</td>\n",
       "      <td>15.676544</td>\n",
       "    </tr>\n",
       "    <tr>\n",
       "      <td>Santa Clara</td>\n",
       "      <td>105.0</td>\n",
       "      <td>1937570</td>\n",
       "      <td>103.0</td>\n",
       "      <td>54.191590</td>\n",
       "      <td>53.159370</td>\n",
       "    </tr>\n",
       "    <tr>\n",
       "      <td>Solano</td>\n",
       "      <td>11.0</td>\n",
       "      <td>446610</td>\n",
       "      <td>4.0</td>\n",
       "      <td>24.629990</td>\n",
       "      <td>8.956360</td>\n",
       "    </tr>\n",
       "    <tr>\n",
       "      <td>Stanislaus</td>\n",
       "      <td>17.0</td>\n",
       "      <td>549815</td>\n",
       "      <td>7.0</td>\n",
       "      <td>30.919491</td>\n",
       "      <td>12.731555</td>\n",
       "    </tr>\n",
       "    <tr>\n",
       "      <td>Tulare</td>\n",
       "      <td>107.0</td>\n",
       "      <td>465861</td>\n",
       "      <td>32.0</td>\n",
       "      <td>229.682244</td>\n",
       "      <td>68.690017</td>\n",
       "    </tr>\n",
       "    <tr>\n",
       "      <td>Ventura</td>\n",
       "      <td>1.0</td>\n",
       "      <td>850967</td>\n",
       "      <td>17.0</td>\n",
       "      <td>1.175134</td>\n",
       "      <td>19.977273</td>\n",
       "    </tr>\n",
       "    <tr>\n",
       "      <td>Yolo</td>\n",
       "      <td>24.0</td>\n",
       "      <td>220408</td>\n",
       "      <td>16.0</td>\n",
       "      <td>108.888970</td>\n",
       "      <td>72.592646</td>\n",
       "    </tr>\n",
       "    <tr>\n",
       "      <td>Mono</td>\n",
       "      <td>NaN</td>\n",
       "      <td>14250</td>\n",
       "      <td>1.0</td>\n",
       "      <td>NaN</td>\n",
       "      <td>70.175439</td>\n",
       "    </tr>\n",
       "  </tbody>\n",
       "</table>\n",
       "</div>"
      ],
      "text/plain": [
       "                patients       Pop  deaths  nursing_patients_per_000000  \\\n",
       "Alameda            102.0   1666753    52.0                    61.196830   \n",
       "Contra Costa        81.0   1150215    25.0                    70.421617   \n",
       "Los Angeles        850.0  10105518   948.0                    84.112462   \n",
       "Marin                1.0    259666    12.0                     3.851101   \n",
       "Orange             100.0   3185968    39.0                    31.387635   \n",
       "Riverside          224.0   2450758   141.0                    91.400293   \n",
       "Sacramento          27.0   1540975    41.0                    17.521374   \n",
       "San Bernardino     157.0   2171603    82.0                    72.296824   \n",
       "San Diego           58.0   3343364   113.0                    17.347797   \n",
       "San Francisco       68.0    883305    23.0                    76.983601   \n",
       "San Joaquin          3.0    752660    25.0                     3.985863   \n",
       "San Mateo           55.0    769545    41.0                    71.470804   \n",
       "Santa Barbara        1.0    446527     7.0                     2.239506   \n",
       "Santa Clara        105.0   1937570   103.0                    54.191590   \n",
       "Solano              11.0    446610     4.0                    24.629990   \n",
       "Stanislaus          17.0    549815     7.0                    30.919491   \n",
       "Tulare             107.0    465861    32.0                   229.682244   \n",
       "Ventura              1.0    850967    17.0                     1.175134   \n",
       "Yolo                24.0    220408    16.0                   108.888970   \n",
       "Mono                 NaN     14250     1.0                          NaN   \n",
       "\n",
       "                deaths_per_000000  \n",
       "Alameda                 31.198384  \n",
       "Contra Costa            21.735067  \n",
       "Los Angeles             93.810134  \n",
       "Marin                   46.213212  \n",
       "Orange                  12.241178  \n",
       "Riverside               57.533220  \n",
       "Sacramento              26.606532  \n",
       "San Bernardino          37.760125  \n",
       "San Diego               33.798294  \n",
       "San Francisco           26.038571  \n",
       "San Joaquin             33.215529  \n",
       "San Mateo               53.278236  \n",
       "Santa Barbara           15.676544  \n",
       "Santa Clara             53.159370  \n",
       "Solano                   8.956360  \n",
       "Stanislaus              12.731555  \n",
       "Tulare                  68.690017  \n",
       "Ventura                 19.977273  \n",
       "Yolo                    72.592646  \n",
       "Mono                    70.175439  "
      ]
     },
     "execution_count": 203,
     "metadata": {},
     "output_type": "execute_result"
    }
   ],
   "source": [
    "# keep this for later -- it drops rows with zero nursing home patients\n",
    "# which I may want to use\n",
    "results2 = results[(results != 0).all(1)]\n",
    "#results.fillna(0)\n",
    "results2"
   ]
  },
  {
   "cell_type": "code",
   "execution_count": 204,
   "metadata": {},
   "outputs": [
    {
     "name": "stdout",
     "output_type": "stream",
     "text": [
      "Intercept                      23.546896\n",
      "nursing_patients_per_000000     0.263662\n",
      "dtype: float64\n"
     ]
    }
   ],
   "source": [
    "result2 = sm.ols(formula=\"deaths_per_000000 ~ nursing_patients_per_000000\", data=results2).fit()\n",
    "print(result2.params)"
   ]
  },
  {
   "cell_type": "code",
   "execution_count": 205,
   "metadata": {},
   "outputs": [
    {
     "name": "stdout",
     "output_type": "stream",
     "text": [
      "                            OLS Regression Results                            \n",
      "==============================================================================\n",
      "Dep. Variable:      deaths_per_000000   R-squared:                       0.375\n",
      "Model:                            OLS   Adj. R-squared:                  0.339\n",
      "Method:                 Least Squares   F-statistic:                     10.22\n",
      "Date:                Tue, 28 Apr 2020   Prob (F-statistic):            0.00528\n",
      "Time:                        17:33:53   Log-Likelihood:                -81.782\n",
      "No. Observations:                  19   AIC:                             167.6\n",
      "Df Residuals:                      17   BIC:                             169.5\n",
      "Df Model:                           1                                         \n",
      "Covariance Type:            nonrobust                                         \n",
      "===============================================================================================\n",
      "                                  coef    std err          t      P>|t|      [0.025      0.975]\n",
      "-----------------------------------------------------------------------------------------------\n",
      "Intercept                      23.5469      6.308      3.733      0.002      10.238      36.856\n",
      "nursing_patients_per_000000     0.2637      0.082      3.197      0.005       0.090       0.438\n",
      "==============================================================================\n",
      "Omnibus:                        4.248   Durbin-Watson:                   2.068\n",
      "Prob(Omnibus):                  0.120   Jarque-Bera (JB):                2.450\n",
      "Skew:                           0.857   Prob(JB):                        0.294\n",
      "Kurtosis:                       3.395   Cond. No.                         111.\n",
      "==============================================================================\n",
      "\n",
      "Warnings:\n",
      "[1] Standard Errors assume that the covariance matrix of the errors is correctly specified.\n"
     ]
    }
   ],
   "source": [
    "print(result2.summary())"
   ]
  },
  {
   "cell_type": "code",
   "execution_count": 206,
   "metadata": {},
   "outputs": [
    {
     "name": "stdout",
     "output_type": "stream",
     "text": [
      "Intercept            1.108342\n",
      "deaths_per_000000    1.423921\n",
      "dtype: float64\n"
     ]
    }
   ],
   "source": [
    "result3 = sm.ols(formula=\"nursing_patients_per_000000 ~ deaths_per_000000\", data=results2).fit()\n",
    "print(result3.params)"
   ]
  },
  {
   "cell_type": "code",
   "execution_count": 207,
   "metadata": {},
   "outputs": [
    {
     "name": "stdout",
     "output_type": "stream",
     "text": [
      "                                 OLS Regression Results                                \n",
      "=======================================================================================\n",
      "Dep. Variable:     nursing_patients_per_000000   R-squared:                       0.375\n",
      "Model:                                     OLS   Adj. R-squared:                  0.339\n",
      "Method:                          Least Squares   F-statistic:                     10.22\n",
      "Date:                         Tue, 28 Apr 2020   Prob (F-statistic):            0.00528\n",
      "Time:                                 17:35:36   Log-Likelihood:                -97.803\n",
      "No. Observations:                           19   AIC:                             199.6\n",
      "Df Residuals:                               17   BIC:                             201.5\n",
      "Df Model:                                    1                                         \n",
      "Covariance Type:                     nonrobust                                         \n",
      "=====================================================================================\n",
      "                        coef    std err          t      P>|t|      [0.025      0.975]\n",
      "-------------------------------------------------------------------------------------\n",
      "Intercept             1.1083     19.773      0.056      0.956     -40.609      42.825\n",
      "deaths_per_000000     1.4239      0.445      3.197      0.005       0.484       2.364\n",
      "==============================================================================\n",
      "Omnibus:                       12.882   Durbin-Watson:                   2.266\n",
      "Prob(Omnibus):                  0.002   Jarque-Bera (JB):               11.357\n",
      "Skew:                           1.322   Prob(JB):                      0.00342\n",
      "Kurtosis:                       5.711   Cond. No.                         87.0\n",
      "==============================================================================\n",
      "\n",
      "Warnings:\n",
      "[1] Standard Errors assume that the covariance matrix of the errors is correctly specified.\n"
     ]
    }
   ],
   "source": [
    "print(result3.summary())"
   ]
  },
  {
   "cell_type": "code",
   "execution_count": null,
   "metadata": {},
   "outputs": [],
   "source": []
  }
 ],
 "metadata": {
  "kernelspec": {
   "display_name": "Python 3",
   "language": "python",
   "name": "python3"
  },
  "language_info": {
   "codemirror_mode": {
    "name": "ipython",
    "version": 3
   },
   "file_extension": ".py",
   "mimetype": "text/x-python",
   "name": "python",
   "nbconvert_exporter": "python",
   "pygments_lexer": "ipython3",
   "version": "3.7.4"
  }
 },
 "nbformat": 4,
 "nbformat_minor": 2
}
